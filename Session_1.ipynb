{
  "nbformat": 4,
  "nbformat_minor": 0,
  "metadata": {
    "colab": {
      "provenance": [],
      "authorship_tag": "ABX9TyMSp+aOognb10jQlQfGa+hf",
      "include_colab_link": true
    },
    "kernelspec": {
      "name": "python3",
      "display_name": "Python 3"
    },
    "language_info": {
      "name": "python"
    }
  },
  "cells": [
    {
      "cell_type": "markdown",
      "metadata": {
        "id": "view-in-github",
        "colab_type": "text"
      },
      "source": [
        "<a href=\"https://colab.research.google.com/github/akm2024/machine-learning/blob/main/Session_1.ipynb\" target=\"_parent\"><img src=\"https://colab.research.google.com/assets/colab-badge.svg\" alt=\"Open In Colab\"/></a>"
      ]
    },
    {
      "cell_type": "markdown",
      "source": [
        "## 1. Program to find largest of three numbers\n",
        "- **step 1**: Read numbers from inputs\n",
        "- **step 2**:compare numbers using `if-elif-else` condition statement\n",
        "- **step 3**:Print the largest number"
      ],
      "metadata": {
        "id": "6lPjzaNqBA9I"
      }
    },
    {
      "cell_type": "code",
      "execution_count": null,
      "metadata": {
        "colab": {
          "base_uri": "https://localhost:8080/"
        },
        "id": "vySG3gGxA_H2",
        "outputId": "2af9815f-7f75-4143-dd56-a53b15137252"
      },
      "outputs": [
        {
          "output_type": "stream",
          "name": "stdout",
          "text": [
            "Enter first number: 1\n",
            "Enter second number: 2\n",
            "Enter third number: 3\n",
            "The largest number is 3.0\n"
          ]
        }
      ],
      "source": [
        "\"\"\"\n",
        "# Python program to find the largest number among the three input numbers\n",
        "\"\"\"\n",
        "##num1 = 40\n",
        "##num2 = 24\n",
        "##23num3 = 32\n",
        "#uncomment following lines to take three numbers from user\n",
        "num1 = float(input(\"Enter first number: \"))\n",
        "num2 = float(input(\"Enter second number: \"))\n",
        "num3 = float(input(\"Enter third number: \"))\n",
        "if (num1 >= num2) and (num1 >= num3):\n",
        "   largest = num1\n",
        "elif (num2 >= num1) and (num2 >= num3):\n",
        "   largest = num2\n",
        "else:\n",
        "   largest = num3\n",
        "print(\"The largest number is\", largest)"
      ]
    },
    {
      "cell_type": "markdown",
      "source": [
        "## 2 .Printing multiplication table\n",
        "- **step 1:** Assign value 12 to variable \n",
        "- **Step 2:**Use `for loop` to calculate the multiplication table of 12\n",
        "-**Step 3:**Print the  multiplication table using the `for loop` statement"
      ],
      "metadata": {
        "id": "TmNAcUyfCbGW"
      }
    },
    {
      "cell_type": "code",
      "source": [
        "# Multiplication table (from 1 to 10) in Python\n",
        "\n",
        "num = 12\n",
        "\n",
        "# To take input from the user\n",
        " #num = int(input(\"Display multiplication table of? \"))\n",
        "\n",
        "# Iterate 10 times from i = 1 to 10\n",
        "for i in range(1, 11):\n",
        "   print(num, 'x', i, '=', num*i)"
      ],
      "metadata": {
        "colab": {
          "base_uri": "https://localhost:8080/"
        },
        "id": "NtRURTptDlRk",
        "outputId": "84098c02-6b06-486e-d029-447dfd78ae94"
      },
      "execution_count": null,
      "outputs": [
        {
          "output_type": "stream",
          "name": "stdout",
          "text": [
            "12 x 1 = 12\n",
            "12 x 2 = 24\n",
            "12 x 3 = 36\n",
            "12 x 4 = 48\n",
            "12 x 5 = 60\n",
            "12 x 6 = 72\n",
            "12 x 7 = 84\n",
            "12 x 8 = 96\n",
            "12 x 9 = 108\n",
            "12 x 10 = 120\n"
          ]
        }
      ]
    },
    {
      "cell_type": "markdown",
      "source": [
        "#2.1 Get an integer less than 12 from the user and display it's ,multiplication table.\n",
        "\n",
        "- **Step 1:**Read input from user\n",
        "-**Step 2:**Use `for loop` to calculate the multiplication table of input number\n",
        "-**Step 3:**Print the  multiplication table using the `for loop` statement "
      ],
      "metadata": {
        "id": "9cBD8uDKD53N"
      }
    },
    {
      "cell_type": "code",
      "source": [
        "# To take input from the user\n",
        "num = int(input(\"Display multiplication table of? \"))\n",
        "\n",
        "# Iterate 10 times from i = 1 to 10\n",
        "for i in range(1, 11):\n",
        "   print(i, 'x', num, '=', num*i)"
      ],
      "metadata": {
        "colab": {
          "base_uri": "https://localhost:8080/"
        },
        "id": "jjmT1Pj0D6TN",
        "outputId": "91e43cac-2eb9-40ce-aa35-a87573a49b73"
      },
      "execution_count": null,
      "outputs": [
        {
          "output_type": "stream",
          "name": "stdout",
          "text": [
            "Display multiplication table of? 2\n",
            "1 x 2 = 2\n",
            "2 x 2 = 4\n",
            "3 x 2 = 6\n",
            "4 x 2 = 8\n",
            "5 x 2 = 10\n",
            "6 x 2 = 12\n",
            "7 x 2 = 14\n",
            "8 x 2 = 16\n",
            "9 x 2 = 18\n",
            "10 x 2 = 20\n"
          ]
        }
      ]
    },
    {
      "cell_type": "markdown",
      "source": [
        "##3 . Check for sign of a number\n",
        "- **Step 1:**Read inputs from user\n",
        "- **Step 2:** Check whether the given number is equal to ,greater or less than zero using `if-elif-else` condition statement\n",
        "- **step 3:** Print the sign of the number "
      ],
      "metadata": {
        "id": "-pdLwv7eFINE"
      }
    },
    {
      "cell_type": "code",
      "source": [
        "num = float(input(\"Enter a number: \"))\n",
        "if num > 0:\n",
        "   print(\"Positive number\")\n",
        "elif num == 0:\n",
        "   print(\"Zero\")\n",
        "else:\n",
        "   print(\"Negative number\")"
      ],
      "metadata": {
        "colab": {
          "base_uri": "https://localhost:8080/"
        },
        "id": "97E9G0r5GEA0",
        "outputId": "754de8dc-ffba-4195-b49f-745bd832f6f0"
      },
      "execution_count": null,
      "outputs": [
        {
          "output_type": "stream",
          "name": "stdout",
          "text": [
            "Enter a number: -5\n",
            "Negative number\n"
          ]
        }
      ]
    },
    {
      "cell_type": "markdown",
      "source": [
        "##4 . Find surface area and volume of a cylinder\n",
        "\n",
        "Let $r$ is the base radius and $h$ is the height of a right circular cylinder.\n",
        "$$SA=2\\pi r(r+h)$$\n",
        "\n",
        "$$V=\\pi r^2 h$$\n",
        "\n",
        "- **Step 1:** Assign values of Pi,radius and height variables of cylinder\n",
        "- **Step 2:** Calculate surface area using the equation\n",
        "$$Surface Area =2\\pi r(r+h)$$\n",
        "- **step 3:** Calculate volume using the equatuion \n",
        "$$volume =pi r^2 h$$\n",
        "- **Step 4:** Print the surface area and volume values from assigned values"
      ],
      "metadata": {
        "id": "1E2dpwm3GNM0"
      }
    },
    {
      "cell_type": "code",
      "source": [
        "#from math import pi\n",
        "pi=3.14\n",
        "r=2.6\n",
        "h=1.6\n",
        "SA=2*pi*r*(r+h)\n",
        "V=pi*r**2*h\n",
        "print((\"Surface Area is {} and Volume is {}\").format(SA,V))"
      ],
      "metadata": {
        "colab": {
          "base_uri": "https://localhost:8080/"
        },
        "id": "q00shcfqHgYL",
        "outputId": "35573c02-42ac-49ae-89ae-6ecbcf126e23"
      },
      "execution_count": null,
      "outputs": [
        {
          "output_type": "stream",
          "name": "stdout",
          "text": [
            "Surface Area is 68.57760000000002 and Volume is 33.96224\n"
          ]
        }
      ]
    },
    {
      "cell_type": "markdown",
      "source": [
        "## 5 . Find area of a circle with radius $r$ using user input\n",
        "- **Step 1:** Read input radius from user\n",
        "- **Step 2:** Calculate area using the equation \n",
        "$$Area =pi*r**2$$\n",
        "- **Step 3:** Print the area calculated from input values"
      ],
      "metadata": {
        "id": "TsIonqw0HpVL"
      }
    },
    {
      "cell_type": "code",
      "source": [
        "\"\"\"\n",
        "program to find area of a circle\n",
        "\"\"\"\n",
        "r=float(input(\"Enter the radius: \"))\n",
        "print(\"Area: \",pi*r**2)"
      ],
      "metadata": {
        "colab": {
          "base_uri": "https://localhost:8080/"
        },
        "id": "5VRbKiS3IgVT",
        "outputId": "ef171fdb-b932-4a11-9ab7-5719da717280"
      },
      "execution_count": null,
      "outputs": [
        {
          "output_type": "stream",
          "name": "stdout",
          "text": [
            "Enter the radius: 1\n",
            "Area:  3.14\n"
          ]
        }
      ]
    },
    {
      "cell_type": "markdown",
      "source": [
        "##6 . Find the area of a rectangle with lenght $l$ and breadth $b$\n",
        "- **Step 1:** Assign values for length and breadth variables\n",
        "- **Step 2:** Calculate area using the Equation\n",
        "$$Area=l*b$$\n",
        "- **Step 3:** Print the area from assigned values"
      ],
      "metadata": {
        "id": "jj15tviwJiLa"
      }
    },
    {
      "cell_type": "code",
      "source": [
        "l=2;b=5.2\n",
        "Area=l*b\n",
        "print(\"Area of the Rectangle is : \",Area)"
      ],
      "metadata": {
        "colab": {
          "base_uri": "https://localhost:8080/"
        },
        "id": "tOEPxKhRKJFC",
        "outputId": "f68f4d67-81ce-4b29-f1f1-2d6b245848ce"
      },
      "execution_count": null,
      "outputs": [
        {
          "output_type": "stream",
          "name": "stdout",
          "text": [
            "Area of the Rectangle is :  10.4\n"
          ]
        }
      ]
    },
    {
      "cell_type": "markdown",
      "source": [
        "##  7 .Replacing a word with another word  in a sentence\n",
        "\n",
        "Use the `replace()` method in `python`\n",
        "\n",
        ">**Syntax:**\n",
        "\n",
        "```\n",
        "str.replace(old,new)\n",
        "```\n",
        "- **Step 1:** Assign the string to a variable\n",
        "- **Step 2:** Replace the word using `text.replace` function\n",
        "- **Step 3:** Print the text after replacement"
      ],
      "metadata": {
        "id": "0XzNqIBsKM-p"
      }
    },
    {
      "cell_type": "code",
      "source": [
        "# program to replace a word by another word in a sentence\n",
        "\n",
        "text = 'hand ball is a hand full of hands'\n",
        "\n",
        "# replace 'hand' with 'foot'\n",
        "replaced_text = text.replace('hand ', 'foot ')\n",
        "print(replaced_text)"
      ],
      "metadata": {
        "colab": {
          "base_uri": "https://localhost:8080/"
        },
        "id": "TUkYMh5nK7PS",
        "outputId": "25aa3a9b-191d-406d-ec2c-6841bb930d23"
      },
      "execution_count": null,
      "outputs": [
        {
          "output_type": "stream",
          "name": "stdout",
          "text": [
            "foot ball is a foot full of hands\n"
          ]
        }
      ]
    },
    {
      "cell_type": "markdown",
      "source": [
        "##8 . Program to remove a word from a sentence\n",
        "\n",
        "We will use the string method `remove()`.\n",
        "\n",
        ">**Syntax:**\n",
        "\n",
        "```\n",
        "str.remove(word to be removed)\n",
        "```\n",
        "- **Step 1:**Read the string input from user\n",
        "- **Step 2:**Read the word to be deleted from user\n",
        "- **Step 3:** Replace word in string with `\"\"`\n",
        "- **Step 4:**Print the updated string"
      ],
      "metadata": {
        "id": "hLXuosviLFiK"
      }
    },
    {
      "cell_type": "code",
      "source": [
        "# program to remove a word from a sentence\n",
        "text = input(\"Enter the String: \")\n",
        "num=len(text)\n",
        "for i in range(1,num)\n",
        "  text[i]=input('Enter the string:')\n",
        "  i+=1\n",
        "word = input(\"Enter a Word to Delete: \")\n",
        "text=text.split()\n",
        "text= text.remove(word)\n",
        "print(\"The updated sentence is:\\n\")\n",
        "print(text)"
      ],
      "metadata": {
        "id": "V3wUk_NwMBfA",
        "colab": {
          "base_uri": "https://localhost:8080/",
          "height": 130
        },
        "outputId": "5a946c1c-6449-4181-e1e8-14a0bf8db6b7"
      },
      "execution_count": 16,
      "outputs": [
        {
          "output_type": "error",
          "ename": "SyntaxError",
          "evalue": "ignored",
          "traceback": [
            "\u001b[0;36m  File \u001b[0;32m\"<ipython-input-16-d1b93aea6b2b>\"\u001b[0;36m, line \u001b[0;32m5\u001b[0m\n\u001b[0;31m    text[]= text.remove(word)\u001b[0m\n\u001b[0m         ^\u001b[0m\n\u001b[0;31mSyntaxError\u001b[0m\u001b[0;31m:\u001b[0m invalid syntax\n"
          ]
        }
      ]
    },
    {
      "cell_type": "code",
      "source": [],
      "metadata": {
        "colab": {
          "base_uri": "https://localhost:8080/",
          "height": 269
        },
        "id": "uHPLu8QINDnY",
        "outputId": "0019f133-8330-4cbe-dfc2-64ad3a37c252"
      },
      "execution_count": null,
      "outputs": [
        {
          "name": "stdout",
          "output_type": "stream",
          "text": [
            "Enter a string: hello world\n",
            "Enter a Word to Delete: world\n"
          ]
        },
        {
          "output_type": "error",
          "ename": "AttributeError",
          "evalue": "ignored",
          "traceback": [
            "\u001b[0;31m---------------------------------------------------------------------------\u001b[0m",
            "\u001b[0;31mAttributeError\u001b[0m                            Traceback (most recent call last)",
            "\u001b[0;32m<ipython-input-13-33f2271734f0>\u001b[0m in \u001b[0;36m<cell line: 4>\u001b[0;34m()\u001b[0m\n\u001b[1;32m      3\u001b[0m \u001b[0;34m\u001b[0m\u001b[0m\n\u001b[1;32m      4\u001b[0m \u001b[0;32mfor\u001b[0m \u001b[0mcharacter\u001b[0m \u001b[0;32min\u001b[0m \u001b[0mword\u001b[0m\u001b[0;34m:\u001b[0m\u001b[0;34m\u001b[0m\u001b[0;34m\u001b[0m\u001b[0m\n\u001b[0;32m----> 5\u001b[0;31m         \u001b[0mtext\u001b[0m \u001b[0;34m=\u001b[0m \u001b[0mtext\u001b[0m\u001b[0;34m.\u001b[0m\u001b[0mremove\u001b[0m\u001b[0;34m(\u001b[0m\u001b[0mcharacter\u001b[0m\u001b[0;34m,\u001b[0m \u001b[0;34m\"\"\u001b[0m\u001b[0;34m)\u001b[0m\u001b[0;34m\u001b[0m\u001b[0;34m\u001b[0m\u001b[0m\n\u001b[0m\u001b[1;32m      6\u001b[0m \u001b[0;34m\u001b[0m\u001b[0m\n\u001b[1;32m      7\u001b[0m \u001b[0mprint\u001b[0m\u001b[0;34m(\u001b[0m\u001b[0;34m\"Your username is: \"\u001b[0m \u001b[0;34m+\u001b[0m \u001b[0mtext\u001b[0m\u001b[0;34m)\u001b[0m\u001b[0;34m\u001b[0m\u001b[0;34m\u001b[0m\u001b[0m\n",
            "\u001b[0;31mAttributeError\u001b[0m: 'str' object has no attribute 'remove'"
          ]
        }
      ]
    },
    {
      "cell_type": "markdown",
      "source": [
        "## 9 .Program to split a sentence into words\n",
        "\n",
        "use the `split()` method\n",
        ">**Syntax:**\n",
        "```\n",
        "str.split()\n",
        "```\n",
        "- **Step 1:**"
      ],
      "metadata": {
        "id": "B-MSuuZzOdz4"
      }
    }
  ]
}
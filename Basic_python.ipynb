{
  "nbformat": 4,
  "nbformat_minor": 0,
  "metadata": {
    "colab": {
      "provenance": [],
      "authorship_tag": "ABX9TyOOGtGEyYSceBsD4ymVGXUw",
      "include_colab_link": true
    },
    "kernelspec": {
      "name": "python3",
      "display_name": "Python 3"
    },
    "language_info": {
      "name": "python"
    }
  },
  "cells": [
    {
      "cell_type": "markdown",
      "metadata": {
        "id": "view-in-github",
        "colab_type": "text"
      },
      "source": [
        "<a href=\"https://colab.research.google.com/github/akm2024/machine-learning/blob/main/Basic_python.ipynb\" target=\"_parent\"><img src=\"https://colab.research.google.com/assets/colab-badge.svg\" alt=\"Open In Colab\"/></a>"
      ]
    },
    {
      "cell_type": "markdown",
      "source": [
        "# Introduction to `Python`\n",
        "\n",
        "First program:Displays a Hello"
      ],
      "metadata": {
        "id": "byjiYSUX7JGj"
      }
    },
    {
      "cell_type": "code",
      "source": [
        "print(\"Hello\")\n"
      ],
      "metadata": {
        "colab": {
          "base_uri": "https://localhost:8080/"
        },
        "id": "PfDB1sHA76UK",
        "outputId": "c9dc8cb7-2ff0-48bb-cf6a-7f1fe86245a0"
      },
      "execution_count": 1,
      "outputs": [
        {
          "output_type": "stream",
          "name": "stdout",
          "text": [
            "Hello\n"
          ]
        }
      ]
    },
    {
      "cell_type": "markdown",
      "source": [
        ">Program to assign an integer and display it "
      ],
      "metadata": {
        "id": "KGDEdLY59O7r"
      }
    },
    {
      "cell_type": "code",
      "source": [
        "a=10\n",
        "print(\"value of  variable a is:\",a)"
      ],
      "metadata": {
        "colab": {
          "base_uri": "https://localhost:8080/"
        },
        "id": "pt8eNNNB8rvh",
        "outputId": "e0324f27-6822-4619-f76f-874aba457bb0"
      },
      "execution_count": 4,
      "outputs": [
        {
          "output_type": "stream",
          "name": "stdout",
          "text": [
            "value of  variable a is: 10\n"
          ]
        }
      ]
    },
    {
      "cell_type": "markdown",
      "source": [
        ">Program to find sum of 2 numbers"
      ],
      "metadata": {
        "id": "uadkA8kW9rCy"
      }
    },
    {
      "cell_type": "code",
      "source": [
        "a=10\n",
        "b= 12\n",
        "sum=a+b\n",
        "print(\"sum of numbers is:\",sum) "
      ],
      "metadata": {
        "colab": {
          "base_uri": "https://localhost:8080/"
        },
        "id": "O_TOubbs9zPS",
        "outputId": "d5736919-e353-4b5a-9a7f-150792c40b79"
      },
      "execution_count": 6,
      "outputs": [
        {
          "output_type": "stream",
          "name": "stdout",
          "text": [
            "sum of numbers is: 22\n"
          ]
        }
      ]
    },
    {
      "cell_type": "markdown",
      "source": [
        "> Read 2 numbers from user and find the sum\n"
      ],
      "metadata": {
        "id": "Lnpi_10RDZKl"
      }
    },
    {
      "cell_type": "code",
      "source": [
        "a=int(input(\"Enter value of a:\")) # input used to read values as strings. int() is used to cast it into integer"
      ],
      "metadata": {
        "colab": {
          "base_uri": "https://localhost:8080/"
        },
        "id": "t8ogDXu_-eao",
        "outputId": "d025c06b-752b-4580-a404-59462678d830"
      },
      "execution_count": 14,
      "outputs": [
        {
          "name": "stdout",
          "output_type": "stream",
          "text": [
            "Enter value of a:40\n"
          ]
        }
      ]
    },
    {
      "cell_type": "code",
      "source": [
        "b=int(input(\"Enter the value of b:\"))"
      ],
      "metadata": {
        "colab": {
          "base_uri": "https://localhost:8080/"
        },
        "id": "dGfjKYIK-r9Y",
        "outputId": "ce5b44f3-4a68-4ff7-a65b-69c91d98494f"
      },
      "execution_count": 15,
      "outputs": [
        {
          "name": "stdout",
          "output_type": "stream",
          "text": [
            "Enter the value of b:10\n"
          ]
        }
      ]
    },
    {
      "cell_type": "code",
      "source": [
        "answer=a+b\n",
        "#display a and b\n",
        "print(\"value of a:\",a)\n",
        "print(\"value of b:\",b)\n",
        "print(answer)"
      ],
      "metadata": {
        "colab": {
          "base_uri": "https://localhost:8080/"
        },
        "id": "NMogRRWL-2R4",
        "outputId": "24838ccf-d623-4ec5-b83e-2a97d123dbbd"
      },
      "execution_count": 16,
      "outputs": [
        {
          "output_type": "stream",
          "name": "stdout",
          "text": [
            "value of a: 40\n",
            "value of b: 10\n",
            "50\n"
          ]
        }
      ]
    }
  ]
}